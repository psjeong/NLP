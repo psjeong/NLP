{
 "cells": [
  {
   "cell_type": "markdown",
   "id": "c081fe34",
   "metadata": {},
   "source": [
    "# 텍스트 전처리 (Text preprocessing)\n",
    "\n",
    "- 풀고자 하는 문제의 용도에 맞게 텍스트를 사전에 처리하는 작업\n",
    "- 텍스트를 제대로 전처리 하지 않으면 자연어 처리 기법들이 제대로 동작하지 않음"
   ]
  },
  {
   "cell_type": "markdown",
   "id": "df737c21",
   "metadata": {},
   "source": [
    "## 토큰화\n",
    "\n",
    "- 주어진 코퍼스(corpus)에서 토큰(token)이라 불리는 단위로 나누는 작업을 토큰화(tokenization)라고 한다.\n",
    "- 토큰의 단위가 상황에 따라 다르지만, 보통 의미있는 단어로 토큰을 정의한다."
   ]
  },
  {
   "cell_type": "markdown",
   "id": "3c284523",
   "metadata": {},
   "source": [
    "### 01. 단어 토큰화(Word Tokenization)\n",
    "***\n",
    "- 토큰의 기준을 단어(word)로 하는 경우, 단어 토큰화(word tokenization)라고 한다.\n",
    "- 단어(word)는 단어 단위 외에도 단어구, 의미를 갖는 문자열로도 간주된다."
   ]
  },
  {
   "cell_type": "markdown",
   "id": "146580d8",
   "metadata": {},
   "source": [
    "    예) 입력으로부터 구두점을 제외시킨 토큰화 작업의 결과\n",
    "        (구두점이란? 마침표(.), 컴마(,), 물음표(?), 세미콜론(;), 느낌표(!) 등과 같은 기호)\n",
    "        \n",
    "    입력 : Time is an illusion. Lunchtime double so!\n",
    "    출력 : 'Time', 'is', 'an', 'illusion', 'Lunchtime', 'double', 'so'\n",
    "    \n",
    "    => 예제에서 토큰화 작업은 구두점을 지운 뒤에 띄어쓰기(whitespace)를 기준으로 잘라냈다.\n",
    "       \n",
    "       보통 토큰화 작업은 단순히 구두점이나 특수문자를 전부 제거하는 정제(cleaning) 작업을 수행하는 것만으로 해결되지 않는다.\n",
    "       구두점이나 특수문자를 전부 제거하면 토큰이 의미를 잃어버리는 경우가 발생하기도 한다.\n",
    "       심지어 띄어쓰기 단위로 자르면 사실상 단어 토큰이 구분되는 영어롸 달리, 한국어는 띄어쓰기만으로는 단어 토큰을 구분하기 어렵다."
   ]
  },
  {
   "cell_type": "markdown",
   "id": "e9ce4ba4",
   "metadata": {},
   "source": [
    "### 02. 토큰화 중 생기는 선택의 순간\n",
    "***\n",
    "- 토큰화를 하다보면, 예상하지 못한 경우가 있어서 토큰화의 기준을 생각해봐야하는 경우가 발생한다.\n",
    "- 데이터를 어떤 용도로 사용할 것인지에 따라서 그 용도에 영향이 없는 기준으로 정하면 된다.\n",
    "- 예를 들어 영어권 언어에서 아포스트로피(')가 들어가있는 단어는 어떻게 토큰으로 분류해야하는지에 대한 선택의 문제가 있다."
   ]
  },
  {
   "cell_type": "markdown",
   "id": "72915b3e",
   "metadata": {},
   "source": [
    "**Don't be fooled by the dark sounding name, Mr. Jone's Orphanage is as cheery as cheery goes for a pastry shop.**\n",
    "\n",
    "해당 문장에서 **Don't**와 **Jone's**는 어떻게 토큰화할수 있을까?\n",
    "다양한 선택지가 있다.\n",
    "\n",
    "- Don't\n",
    "- Don t\n",
    "- Dont\n",
    "- Do n't\n",
    "<br><br>\n",
    "- Jone's\n",
    "- Jone s\n",
    "- Jone\n",
    "- Jones\n",
    "\n",
    "이 중 사용자가 원하는 결과가 나오도록 토큰화 도구를 직접 설계할 수도 있겠지만, <br>\n",
    "기존에 공개된 도구들을 사용하였을 떄의 결과가 사용자의 목적과 일치 한다면 해당 도구를 사용할 수도 있을것이다.\n",
    "\n",
    "NLTK 는 영어 코퍼스를 토큰화하기 위한 도구들을 제공한다.<br>\n",
    "그 중 word_tokenize와 WordPunctTokenizer를 사용해서 아포스트로피를 어떻게 처리하는지 확인해보자."
   ]
  },
  {
   "cell_type": "code",
   "execution_count": 6,
   "id": "b0957013",
   "metadata": {},
   "outputs": [
    {
     "name": "stderr",
     "output_type": "stream",
     "text": [
      "[nltk_data] Downloading package punkt to\n",
      "[nltk_data]     C:\\Users\\sj926\\AppData\\Roaming\\nltk_data...\n",
      "[nltk_data]   Unzipping tokenizers\\punkt.zip.\n"
     ]
    },
    {
     "data": {
      "text/plain": [
       "True"
      ]
     },
     "execution_count": 6,
     "metadata": {},
     "output_type": "execute_result"
    }
   ],
   "source": [
    "import nltk\n",
    "nltk.download('punkt')"
   ]
  },
  {
   "cell_type": "code",
   "execution_count": 4,
   "id": "ebe3b979",
   "metadata": {},
   "outputs": [],
   "source": [
    "from nltk.tokenize import word_tokenize\n",
    "from nltk.tokenize import WordPunctTokenizer\n",
    "from tensorflow.keras.preprocessing.text import text_to_word_sequence"
   ]
  },
  {
   "cell_type": "markdown",
   "id": "841f0d83",
   "metadata": {},
   "source": [
    "**word_tokenize**"
   ]
  },
  {
   "cell_type": "code",
   "execution_count": 9,
   "id": "45202751",
   "metadata": {},
   "outputs": [
    {
     "name": "stdout",
     "output_type": "stream",
     "text": [
      "word_tokenize : ['Do', \"n't\", 'be', 'fooled', 'by', 'the', 'dark', 'sounding', 'name', ',', 'Mr.', 'Jone', \"'s\", 'Orphanage', 'is', 'as', 'cheery', 'as', 'cheery', 'goes', 'for', 'a', 'pastry', 'shop', '.']\n"
     ]
    }
   ],
   "source": [
    "print('word_tokenize :',word_tokenize(\"Don't be fooled by the dark sounding name, Mr. Jone's Orphanage is as cheery as cheery goes for a pastry shop.\"))\n",
    "\n",
    "# Don't  -> Do  n't\n",
    "# Jone's -> Jone 's"
   ]
  },
  {
   "cell_type": "code",
   "execution_count": 36,
   "id": "4b7b4455",
   "metadata": {},
   "outputs": [
    {
     "name": "stdout",
     "output_type": "stream",
     "text": [
      "주어 + 동사 :  ['I', \"'m\", 'you', \"'re\", 'It', \"'s\", 'he', \"'d\", 'ai', \"n't\", 'I', \"'ll\", 'I', \"'ve\"]\n",
      "be 동사 + not :  ['does', \"n't\", 'did', \"n't\"]\n",
      "줄임말 :  [\"o'clock\", \"o'er\"]\n"
     ]
    }
   ],
   "source": [
    "# 주어 + 동사(be, have, has, will...) 축약형\n",
    "print('주어 + 동사 : ', word_tokenize(\"I'm you're It's he'd ain't  I'll I've\"))\n",
    "\n",
    "# be 동사 + not  축약형\n",
    "print('be 동사 + not : ', word_tokenize(\"doesn't didn't\"))\n",
    "\n",
    "# 줄임말\n",
    "print('줄임말 : ', word_tokenize(\"o'clock o'er\"))"
   ]
  },
  {
   "cell_type": "markdown",
   "id": "33aa0227",
   "metadata": {},
   "source": [
    "└>  축약형 단어를 나눠주는 특징이 있는것으로 확인이 된다.\n",
    "    (접어가 함께하는 단어는 분리된다.)"
   ]
  },
  {
   "cell_type": "markdown",
   "id": "8f0483e3",
   "metadata": {},
   "source": [
    "**WordPunctTokenizer**\n",
    "- 구두점을 별도로 분류하는 특징을 갖고 있다."
   ]
  },
  {
   "cell_type": "code",
   "execution_count": 10,
   "id": "f6fe6151",
   "metadata": {},
   "outputs": [
    {
     "name": "stdout",
     "output_type": "stream",
     "text": [
      "WordPunctTokenizer: ['Don', \"'\", 't', 'be', 'fooled', 'by', 'the', 'dark', 'sounding', 'name', ',', 'Mr', '.', 'Jone', \"'\", 's', 'Orphanage', 'is', 'as', 'cheery', 'as', 'cheery', 'goes', 'for', 'a', 'pastry', 'shop', '.']\n"
     ]
    }
   ],
   "source": [
    "print('WordPunctTokenizer:',WordPunctTokenizer().tokenize(\"Don't be fooled by the dark sounding name, Mr. Jone's Orphanage is as cheery as cheery goes for a pastry shop.\"))\n",
    "\n",
    "# Don't  -> Don   '   t\n",
    "# Jone's -> Jone  '   s"
   ]
  },
  {
   "cell_type": "code",
   "execution_count": 35,
   "id": "63087f66",
   "metadata": {},
   "outputs": [
    {
     "name": "stdout",
     "output_type": "stream",
     "text": [
      "주어 + 동사:  ['I', \"'\", 'm', 'you', \"'\", 're', 'It', \"'\", 's', 'he', \"'\", 'd', 'ain', \"'\", 't', 'I', \"'\", 'll', 'I', \"'\", 've']\n",
      "be 동사 + not :  ['doesn', \"'\", 't', 'didn', \"'\", 't']\n",
      "줄임말 :  ['o', \"'\", 'clock', 'o', \"'\", 'er']\n"
     ]
    }
   ],
   "source": [
    "# 주어 + 동사(be, have, has, will...) 축약형\n",
    "print('주어 + 동사: ',WordPunctTokenizer().tokenize(\"I'm you're It's he'd ain't  I'll I've\"))\n",
    "\n",
    "# be 동사 + not  축약형\n",
    "print('be 동사 + not : ',WordPunctTokenizer().tokenize(\"doesn't didn't\"))\n",
    "\n",
    "# 줄임말\n",
    "print('줄임말 : ',WordPunctTokenizer().tokenize(\"o'clock o'er\"))"
   ]
  },
  {
   "cell_type": "markdown",
   "id": "134c7298",
   "metadata": {},
   "source": [
    "**text_to_word_sequence**\n",
    "- 기본적으로 모든 알파벳을 소문자로 바꾸면서 마침표나 컴마, 느낌표 등의 구두점을 제거한다."
   ]
  },
  {
   "cell_type": "code",
   "execution_count": 11,
   "id": "bd03bc88",
   "metadata": {},
   "outputs": [
    {
     "name": "stdout",
     "output_type": "stream",
     "text": [
      "text_to_word_sequence : [\"don't\", 'be', 'fooled', 'by', 'the', 'dark', 'sounding', 'name', 'mr', \"jone's\", 'orphanage', 'is', 'as', 'cheery', 'as', 'cheery', 'goes', 'for', 'a', 'pastry', 'shop']\n"
     ]
    }
   ],
   "source": [
    "print('text_to_word_sequence :',text_to_word_sequence(\"Don't be fooled by the dark sounding name, Mr. Jone's Orphanage is as cheery as cheery goes for a pastry shop.\"))\n",
    "\n",
    "# Don't  -> don't\n",
    "# Jone's -> jone's"
   ]
  },
  {
   "cell_type": "markdown",
   "id": "226180d7",
   "metadata": {},
   "source": [
    "└> 하지만 don't나 jone's와 같은 경우 아포스트로피는 보존하는것을 볼 수 있다."
   ]
  },
  {
   "cell_type": "code",
   "execution_count": 41,
   "id": "62055d4d",
   "metadata": {},
   "outputs": [
    {
     "name": "stdout",
     "output_type": "stream",
     "text": [
      "주어 + 동사:  [\"i'm\", \"you're\", \"it's\", \"he'd\", \"ain't\", \"i'll\", \"i've\"]\n",
      "be 동사 + not :  [\"doesn't\", \"didn't\"]\n",
      "줄임말 :  [\"o'clock\", \"o'er\"]\n"
     ]
    }
   ],
   "source": [
    "# 주어 + 동사(be, have, has, will...) 축약형\n",
    "print('주어 + 동사: ',text_to_word_sequence(\"I'm you're It's he'd ain't  I'll I've\"))\n",
    "\n",
    "# be 동사 + not  축약형\n",
    "print('be 동사 + not : ',text_to_word_sequence(\"doesn't didn't\"))\n",
    "\n",
    "# 줄임말\n",
    "print('줄임말 : ',text_to_word_sequence(\"o'clock o'er\"))"
   ]
  },
  {
   "cell_type": "markdown",
   "id": "bdf4fc5f",
   "metadata": {},
   "source": [
    "└> 단어 안에 있는 아포스트로피는 보존되는것같다."
   ]
  },
  {
   "cell_type": "markdown",
   "id": "fa0c7db0",
   "metadata": {},
   "source": [
    "### 03. 토큰화에서 고려해야할 사항\n",
    "***\n",
    "- 토큰화 작업을 단순하게 코퍼스에서 구두점을 제외하고 공백 기준으로 잘라내는 작업이라고 간주할 수는 없다.\n",
    "- 이러한 일은 보다 섬세한 알고리즘이 필요하다."
   ]
  },
  {
   "cell_type": "markdown",
   "id": "b77c8a3f",
   "metadata": {},
   "source": [
    "#### 1) 구두점이나 특수 문자를 단순 제외해서는 안된다."
   ]
  },
  {
   "cell_type": "markdown",
   "id": "83975bef",
   "metadata": {},
   "source": [
    "- 정제 작업을 진행하다보면, 구두점 조차도 하나의 토큰으로 분류하기도 한다.\n",
    "- 마침표(.)는 문장의 경계를 알 수 있는데 도움이 되므로 단어를 뽑아낼 때, 마침표(.)를 제외하지 않을 수 있다.\n",
    "- 단어 자체에도 구두점을 갖고 있는 경우에도 구두점이 내포하고 있는 의미가 있기에 분류하고 싶지 않을 수도 있다. <br>\n",
    "    예 ) m.p.h | Ph.D | AT&T | $96.09 | 22/12/24 | 36,000,000 ..."
   ]
  },
  {
   "cell_type": "markdown",
   "id": "573b265a",
   "metadata": {},
   "source": [
    "#### 2) 줄임말과 단어 내에 띄어쓰기가 있는 경우"
   ]
  },
  {
   "cell_type": "markdown",
   "id": "11c6a8dd",
   "metadata": {},
   "source": [
    "- 토큰화 작업에서 종종 영어권 언어의 아포스트로피(')는 압축된 단어를 펼치는 역할을 하기도 한다.<br>\n",
    "  예 ) what're → what are | we're → we are ...  => re를 접어(clitic)이라고한다.\n",
    "- 하나의 단어이지만 중간에 띄어쓰기가 존재하는 경우도 있다. <br>\n",
    "  해당 경우에도 하나의 토큰으로 봐야하는 경우도 있을 수 있으므로, <br>\n",
    "  토큰화 작업은 띄어쓰기를 포함한 단어도 하나로 인식할 수 있는 능력도 가져야한다. <br>\n",
    "  예 ) New York | rock 'n' roll"
   ]
  },
  {
   "cell_type": "markdown",
   "id": "2dc58874",
   "metadata": {},
   "source": [
    "#### 3) 표준 토큰화 예제"
   ]
  },
  {
   "cell_type": "markdown",
   "id": "0d8b3ded",
   "metadata": {},
   "source": [
    "- 표준으로 쓰이고 있는 토큰화 방법 중 하나인 Penn Treebank Tokenization 규칙에 따른 토큰화 결과를 확인해보자.\n",
    "\n",
    "```\n",
    "    규칙 1 : 하이픈(-)으로 구성된 단어는 하나로 유지한다.\n",
    "    규칙 2 : doesn't와 같이 아포스트로피로 '접어'가 함께하는 단어는 분리해준다.\n",
    "```"
   ]
  },
  {
   "cell_type": "code",
   "execution_count": 42,
   "id": "bb376aa9",
   "metadata": {},
   "outputs": [],
   "source": [
    "from nltk.tokenize import TreebankWordTokenizer"
   ]
  },
  {
   "cell_type": "code",
   "execution_count": 43,
   "id": "c36b4f13",
   "metadata": {},
   "outputs": [
    {
     "name": "stdout",
     "output_type": "stream",
     "text": [
      "트리뱅크 워드토크나이저 : ['Starting', 'a', 'home-based', 'restaurant', 'may', 'be', 'an', 'ideal.', 'it', 'does', \"n't\", 'have', 'a', 'food', 'chain', 'or', 'restaurant', 'of', 'their', 'own', '.']\n"
     ]
    }
   ],
   "source": [
    "tokenizer = TreebankWordTokenizer()\n",
    "\n",
    "text = \"Starting a home-based restaurant may be an ideal. it doesn't have a food chain or restaurant of their own.\"\n",
    "print('트리뱅크 워드토크나이저 :',tokenizer.tokenize(text))"
   ]
  },
  {
   "cell_type": "code",
   "execution_count": 44,
   "id": "dca68111",
   "metadata": {
    "scrolled": true
   },
   "outputs": [
    {
     "name": "stdout",
     "output_type": "stream",
     "text": [
      "트리뱅크 워드토크나이저 : ['home_based']\n"
     ]
    }
   ],
   "source": [
    "text = \"home_based\"\n",
    "print('트리뱅크 워드토크나이저 :',tokenizer.tokenize(text))"
   ]
  },
  {
   "cell_type": "markdown",
   "id": "2aa072d2",
   "metadata": {},
   "source": [
    "└> 결과를 보면, 각각 규칙에 따라 home-based는 하나의 토큰으로, dosen't의 경우 does와 n't는 분리 되었음을 확인 할 수 있다."
   ]
  },
  {
   "cell_type": "markdown",
   "id": "f3d624a0",
   "metadata": {},
   "source": [
    "### 04. 문장 토큰화 (Sentence Tokenization)\n",
    "***\n",
    "- 코퍼스 내에서 문장 단위로 구분하는 작업으로 때로는 문장 분류(sentence segmentation)라고도 부른다.\n",
    "- 보통 갖고있는 코퍼스가 정제되지 않은 상태라면, <br>\n",
    "  코퍼스는 문장 단위로 구분되어 있지 않아서 이를 사용하고자 하는 용도에 맞게 문장 토큰화가 필요할 수 있다.\n",
    "<br><br>\n",
    "- 문장 단위로 어떻레 분류 할 수 있을까 생각해봤을 때, <br>\n",
    "  물음표(?)나 마침표(.), 느낌표(!) 기준으로 문장을 잘라내면 되지않을까 생각 할 수도 있지만 <br>\n",
    "  꼭 그렇지만은 않다. !나 ?는 문장의 구분을 위한 꽤 명확한 구분자(boundary) 역할을 하지만 마침표는 그렇지 않기 때문이다. <br>\n",
    "  마침표는 문장의 끝이 아니더라도 등장할 수 있다.\n",
    "  ```\n",
    "  예 1) IP 192.168.56.31 서버에 들어가서 로그 파일 저장해서 hibye@gmain.com 로 결과 좀 보내줘. 그 후 점심 먹으러 가자.\n",
    "  예 2) Since I'm actively looking for Ph.D. students, I get the same question a dozen times every year.\n",
    "  \n",
    "  위에 있는 예제 문장에 마침표 기준으로 문장 토큰화를 적용해보면 문장의 끝이 나오기 전에 이미 마침표가 여러번 등장하여\n",
    "  원하는 결과가 나오지 않게 된다.\n",
    "  ```\n",
    "- 사용하는 코퍼스가 어떤 국적의 언어인지, 또는 해당 코퍼스 내에서 특수 문자들이 어떻게 사용되고 있는지에 따라서 <br>\n",
    "  직접 규칙들을 정의해볼 수 있다.\n",
    "- 영어 문장의 토큰화는 NLTK에서 sent_tokenize를 지원하고 있다."
   ]
  },
  {
   "cell_type": "code",
   "execution_count": 1,
   "id": "9fdb91bd",
   "metadata": {},
   "outputs": [],
   "source": [
    "from nltk.tokenize import sent_tokenize"
   ]
  },
  {
   "cell_type": "code",
   "execution_count": 2,
   "id": "bf5294f3",
   "metadata": {},
   "outputs": [
    {
     "name": "stdout",
     "output_type": "stream",
     "text": [
      "문장 토큰화1 : ['His barber kept his word.', 'But keeping such a huge secret to himself was driving him crazy.', 'Finally, the barber went up a mountain and almost to the edge of a cliff.', 'He dug a hole in the midst of some reeds.', 'He looked about, to make sure no one was near.']\n"
     ]
    }
   ],
   "source": [
    "text = \"His barber kept his word. But keeping such a huge secret to himself was driving him crazy. Finally, the barber went up a mountain and almost to the edge of a cliff. He dug a hole in the midst of some reeds. He looked about, to make sure no one was near.\"\n",
    "print('문장 토큰화1 :',sent_tokenize(text))"
   ]
  },
  {
   "cell_type": "code",
   "execution_count": 3,
   "id": "29b3c8ba",
   "metadata": {},
   "outputs": [
    {
     "name": "stdout",
     "output_type": "stream",
     "text": [
      "문장 토큰화2 : ['I am actively looking for Ph.D. students.', 'and you are a Ph.D student.']\n"
     ]
    }
   ],
   "source": [
    "text = \"I am actively looking for Ph.D. students. and you are a Ph.D student.\"\n",
    "print('문장 토큰화2 :',sent_tokenize(text))"
   ]
  },
  {
   "cell_type": "code",
   "execution_count": 4,
   "id": "504f6f6b",
   "metadata": {
    "collapsed": true
   },
   "outputs": [
    {
     "name": "stdout",
     "output_type": "stream",
     "text": [
      "Collecting kss\n",
      "  Downloading kss-4.1.3.tar.gz (58 kB)\n",
      "     ---------------------------------------- 58.4/58.4 kB ? eta 0:00:00\n",
      "  Preparing metadata (setup.py): started\n",
      "  Preparing metadata (setup.py): finished with status 'done'\n",
      "Collecting emoji==1.2.0\n",
      "  Downloading emoji-1.2.0-py3-none-any.whl (131 kB)\n",
      "     -------------------------------------- 131.3/131.3 kB 8.1 MB/s eta 0:00:00\n",
      "Requirement already satisfied: regex in c:\\users\\sj926\\anaconda3\\lib\\site-packages (from kss) (2022.7.9)\n",
      "Collecting pecab\n",
      "  Downloading pecab-1.0.8.tar.gz (26.4 MB)\n",
      "     --------------------------------------- 26.4/26.4 MB 34.4 MB/s eta 0:00:00\n",
      "  Preparing metadata (setup.py): started\n",
      "  Preparing metadata (setup.py): finished with status 'done'\n",
      "Requirement already satisfied: numpy in c:\\users\\sj926\\anaconda3\\lib\\site-packages (from pecab->kss) (1.21.5)\n",
      "Collecting pyarrow\n",
      "  Downloading pyarrow-10.0.1-cp39-cp39-win_amd64.whl (20.3 MB)\n",
      "     --------------------------------------- 20.3/20.3 MB 40.9 MB/s eta 0:00:00\n",
      "Requirement already satisfied: pytest in c:\\users\\sj926\\anaconda3\\lib\\site-packages (from pecab->kss) (7.1.2)\n",
      "Requirement already satisfied: attrs>=19.2.0 in c:\\users\\sj926\\anaconda3\\lib\\site-packages (from pytest->pecab->kss) (22.1.0)\n",
      "Requirement already satisfied: iniconfig in c:\\users\\sj926\\anaconda3\\lib\\site-packages (from pytest->pecab->kss) (1.1.1)\n",
      "Requirement already satisfied: packaging in c:\\users\\sj926\\anaconda3\\lib\\site-packages (from pytest->pecab->kss) (22.0)\n",
      "Requirement already satisfied: pluggy<2.0,>=0.12 in c:\\users\\sj926\\anaconda3\\lib\\site-packages (from pytest->pecab->kss) (1.0.0)\n",
      "Requirement already satisfied: py>=1.8.2 in c:\\users\\sj926\\anaconda3\\lib\\site-packages (from pytest->pecab->kss) (1.11.0)\n",
      "Requirement already satisfied: tomli>=1.0.0 in c:\\users\\sj926\\anaconda3\\lib\\site-packages (from pytest->pecab->kss) (2.0.1)\n",
      "Requirement already satisfied: atomicwrites>=1.0 in c:\\users\\sj926\\anaconda3\\lib\\site-packages (from pytest->pecab->kss) (1.4.0)\n",
      "Requirement already satisfied: colorama in c:\\users\\sj926\\anaconda3\\lib\\site-packages (from pytest->pecab->kss) (0.4.5)\n",
      "Building wheels for collected packages: kss, pecab\n",
      "  Building wheel for kss (setup.py): started\n",
      "  Building wheel for kss (setup.py): finished with status 'done'\n",
      "  Created wheel for kss: filename=kss-4.1.3-py3-none-any.whl size=43628 sha256=2279bfa3257bb70644fe51046bbd01854830bfbb9db3120c3bdcb1f4d72d8157\n",
      "  Stored in directory: c:\\users\\sj926\\appdata\\local\\pip\\cache\\wheels\\60\\17\\7d\\8bfe7aa10ce1bd6dc98b5e26ada889e905ab4b445bc3d75eab\n",
      "  Building wheel for pecab (setup.py): started\n",
      "  Building wheel for pecab (setup.py): finished with status 'done'\n",
      "  Created wheel for pecab: filename=pecab-1.0.8-py3-none-any.whl size=26646664 sha256=a51592c2b805a1d9c460b192802e0452deac46c0351636714a3b630e13f23e91\n",
      "  Stored in directory: c:\\users\\sj926\\appdata\\local\\pip\\cache\\wheels\\dc\\65\\15\\13a802d1744ff07ccd1b8b80c5c72b4ef9481171a8230dcd93\n",
      "Successfully built kss pecab\n",
      "Installing collected packages: emoji, pyarrow, pecab, kss\n",
      "Successfully installed emoji-1.2.0 kss-4.1.3 pecab-1.0.8 pyarrow-10.0.1\n",
      "Note: you may need to restart the kernel to use updated packages.\n"
     ]
    }
   ],
   "source": [
    "pip install kss"
   ]
  },
  {
   "cell_type": "code",
   "execution_count": 10,
   "id": "f3dd3e8c",
   "metadata": {},
   "outputs": [
    {
     "name": "stdout",
     "output_type": "stream",
     "text": [
      "한국어 문장 토큰화 : ['딥 러닝 자연어 처리가 재미있기는 합니다.', '그런데 문제는 영어보다 한국어로 할 때 너무 어렵습니다.', '이제 해보면 알걸요?']\n"
     ]
    }
   ],
   "source": [
    "import kss\n",
    "\n",
    "text = '딥 러닝 자연어 처리가 재미있기는 합니다. 그런데 문제는 영어보다 한국어로 할 때 너무 어렵습니다. 이제 해보면 알걸요?'\n",
    "print('한국어 문장 토큰화 :',kss.split_sentences(text))"
   ]
  },
  {
   "cell_type": "code",
   "execution_count": 7,
   "id": "b78f0ce0",
   "metadata": {},
   "outputs": [
    {
     "name": "stdout",
     "output_type": "stream",
     "text": [
      "한국어 문장 토큰화 : ['IP 192.168.56.31 서버에 들어가서 로그 파일 저장해서 hibye@gmain.com 로 결과 좀 보내줘.', '그 후 점심 먹으러 가자.']\n"
     ]
    }
   ],
   "source": [
    "text = 'IP 192.168.56.31 서버에 들어가서 로그 파일 저장해서 hibye@gmain.com 로 결과 좀 보내줘. 그 후 점심 먹으러 가자.'\n",
    "print('한국어 문장 토큰화 :',kss.split_sentences(text))"
   ]
  },
  {
   "cell_type": "markdown",
   "id": "9cb7c3ff",
   "metadata": {},
   "source": [
    "### 5. 한국어에서의 토큰화의 어려움.\n",
    "***\n",
    "- 영어는 New York과 같은 합성어나 he's와 같이 줄임말에 대한 예외처리만 한다면, <br> \n",
    "  띄어쓰기(whitespace)를 기준으로 하는 띄어쓰기 토큰화를 수행해도 단어 토큰화가 잘 작동한다.\n",
    "  거의 대부분의 경우에서 단어 단위로 띄어쓰기가 이루어지기 때문에 띄어쓰기 토큰화와 단어 토큰화가 거의 같기 때문이다.\n",
    "<br><br>\n",
    "- 하지만 한국어는 영어와는 달리 띄어쓰기만으로는 토큰화를 하기에 부족하다.\n",
    "- 한국어의 경우에는 띄어쓰기 단위가 되는 단위를 '어절'이라고 하는데 어절 토큰화는 한국어 NLP에서 지양되고 있다.<br>\n",
    "  어절 토큰화와 단어 토큰화는 같지 않기 때문이다.\n",
    "- 근본적인 이유는 한국어가 영어와는 다른 형태를 가지는 언어인 교착어라는 점에서 기인한다.<br>\n",
    "  (교착어란? 조사, 어미등을 붙여서 말을 만드는 언어)"
   ]
  },
  {
   "cell_type": "markdown",
   "id": "d7edd06d",
   "metadata": {},
   "source": [
    "#### 1) 교착어의 특성"
   ]
  },
  {
   "cell_type": "markdown",
   "id": "1a7a9a5c",
   "metadata": {},
   "source": [
    "- 영어와 달리 한국어에는 조사라는 것이 존재한다.\n",
    "```\n",
    "예 ) 그 (he/him)라는 주어나 목적어가 들어간 문장이 있을때,\n",
    "   '그'라는 단어 하나에도 '그가', '그에게', '그를', '그와', '그는'과 같이 다양한 조사가 \n",
    "   '그'라는 글자 뒤에 띄어쓰기 없이 바로 붙게 된다.\n",
    "   자연어 처리를 하다보면 서로 다른 조사가 붙어서 다른 단어로 인식이 되면 자연어 처리가 힘들고 번거로워지는 경우가 많다.\n",
    "\n",
    "   => 한국어 NLP에서 조사는 분리해줄 필요가 있다.\n",
    "```\n",
    "- 띄어쓰기 단위가 영어처럼 독립적인 단어라면 띄어쓰기 단위로 토큰화를 하면 되겠지만<br>\n",
    "  한국어는 어절이 독립적인 단어로 구성 되는것이 아니라 조사 등의 무언가가 붙어있는 경우가 많아서 이를 전부 분리 해줘야한다.\n",
    "- 한국어 토큰화에서는 **형태소(morpheme)** 란 개념을 반드시 이해해야한다.<br>\n",
    "  (형태소란? 가장 작은 말의 단위 | 형태소에는 자립 형태소, 의존 형태소 두가지가 있다.)"
   ]
  },
  {
   "cell_type": "markdown",
   "id": "a2edffe9",
   "metadata": {},
   "source": [
    "**자립형태소** <br>\n",
    "접사, 어미, 조사와 상관없이 자립하여 사용할 수 있는 형태소. 그 자체로 단어가 된다.<br>\n",
    "체언(명사, 대명사, 수사), 수식언(관형사, 부사), 감탄사 등이 있다."
   ]
  },
  {
   "cell_type": "markdown",
   "id": "30b2317f",
   "metadata": {},
   "source": [
    "**의존형태소** <br>\n",
    "다른 형태소와 결합하여 사용되는 형태소, 덥사, 어미, 조사, 어간을 말한다."
   ]
  },
  {
   "cell_type": "markdown",
   "id": "e26784bd",
   "metadata": {},
   "source": [
    "예) <br>\n",
    "문장 : 에디가 책을 읽었다. <br>\n",
    "\n",
    "- 띄어쓰기 단위 토큰화 <br>\n",
    "  ['에디가', '책을', '읽었다']<br><br>\n",
    "  \n",
    "- 형태소 단위 토큰화 <br>\n",
    "  자립 형태소 : 에디, 책 <br>\n",
    "  의존 형태소 : -가, -을, 읽-, -었, -다\n",
    "  \n",
    "  \n",
    "=> '에디'라는 사람과 '책'이라는 명사를 얻어낼 수 있었다. <br>\n",
    "    이를 통해 유추할 수 있는 것은 한국어에서 영어에서의 단어 토큰화와 유사한 형태를 얻으려면 <br>\n",
    "    어절 토큰화가 아니라 <u>형태소 토큰화를 수행</u>해야한다는 것이다.\n",
    "  "
   ]
  },
  {
   "cell_type": "markdown",
   "id": "1a146d3d",
   "metadata": {},
   "source": [
    "#### 2) 한국어는 띄어쓰기가 영어보다 잘 지켜지지 않는다."
   ]
  },
  {
   "cell_type": "markdown",
   "id": "73b3ebb7",
   "metadata": {},
   "source": [
    "- 사용하는 한국어 코퍼스가 뉴스 기사와 같이 띄어쓰기를 철저하게 지키려고 노력하는 글이라면 좋겠지만, <br>\n",
    "  많은 경우에 띄어쓰기기가 츨렸거나 지켜지지 않는 코퍼스가 많다.\n",
    "- 한국어는 영어둰 언어와 비교하여 띄어쓰기가 어렵고 잘 지켜지지 않는 경향이 있다. <br>\n",
    "  이유는 여러 견해가 있으나, 가장 기본적인 견해는 한국어의 경우 띄어쓰기가 지켜지지 않아도 글을 쉽게 이해할 수 있는 언어라는 점이다.\n",
    "\n",
    "한국어 ) 제가이렇게띄어쓰기를전혀하지않고글을썼다고하더라도글을이해할수있습니다. <br>\n",
    "영어 ) Tobeornottobethatisthequestion\n",
    "\n",
    "- 영어의 경우에는 띄어쓰기를 하지 않으면 손쉽게 알아보기 어려운 문장들이 생긴다.\n",
    "- 한국어는 모아쓰기 방식이고 영어는 풀어쓰기 방식으로 언어적 특성 차이에 기인한다.\n",
    "- 한국어는 수많은 코퍼스에서 띄어쓰기가 무시되는 경우가 많아 자연어 처리가 어려워졌다."
   ]
  },
  {
   "cell_type": "markdown",
   "id": "e1938a2c",
   "metadata": {},
   "source": [
    "### 6. 품사 태깅(Part-of-speech tagging)"
   ]
  },
  {
   "cell_type": "markdown",
   "id": "7bb56735",
   "metadata": {},
   "source": [
    "- 단어는 표기는 같지만 품사에 따라서 단어의 의미가 달라지기도 한다. <br> <br>\n",
    "\n",
    "    **fly** <br>\n",
    "    동사 : 날다 <br>\n",
    "    명사 : 파리 <br>\n",
    "    <br><br>\n",
    "    **못**<br>\n",
    "    명사 : 목재 따위를 고정하는 물건<br>\n",
    "    부사 : 동작 동사를 할 수 없다는 의미 ('못' + '먹는다', '못' + '달린다')<br>\n",
    "    <br><br>\n",
    "- 단어의 의미를 제대로 파악하기 위해서는 해당 단어가 어떤 품사로 쓰였는지 보는 것이 주요 지표가 될 수도 있다.\n",
    "- 단어 토큰화 과정에서 각 단어가 어떤 품사로 쓰였는지를 구분해놓기도 하는데, <br>\n",
    "  이 작업을 품사 태깅(part-of-speech tagging)이라고 한다."
   ]
  },
  {
   "cell_type": "markdown",
   "id": "c021f6ac",
   "metadata": {},
   "source": [
    "### 7. NLTK와 KoNLPy를 이용한 영어, 한국어 토큰화 실습"
   ]
  },
  {
   "cell_type": "markdown",
   "id": "07dcc563",
   "metadata": {},
   "source": [
    "- NLTK에서는 Penn Treebank POS Tags라는 기준을 사용하여 품사를 태깅한다."
   ]
  },
  {
   "cell_type": "code",
   "execution_count": 16,
   "id": "62e79e04",
   "metadata": {
    "collapsed": true
   },
   "outputs": [
    {
     "name": "stderr",
     "output_type": "stream",
     "text": [
      "[nltk_data] Downloading package averaged_perceptron_tagger to\n",
      "[nltk_data]     C:\\Users\\sj926\\AppData\\Roaming\\nltk_data...\n",
      "[nltk_data]   Unzipping taggers\\averaged_perceptron_tagger.zip.\n"
     ]
    },
    {
     "data": {
      "text/plain": [
       "True"
      ]
     },
     "execution_count": 16,
     "metadata": {},
     "output_type": "execute_result"
    }
   ],
   "source": [
    "import nltk\n",
    "nltk.download('averaged_perceptron_tagger')"
   ]
  },
  {
   "cell_type": "code",
   "execution_count": 12,
   "id": "b9285b2b",
   "metadata": {},
   "outputs": [],
   "source": [
    "from nltk.tokenize import word_tokenize\n",
    "from nltk.tag import pos_tag"
   ]
  },
  {
   "cell_type": "code",
   "execution_count": 17,
   "id": "1089fd7e",
   "metadata": {},
   "outputs": [
    {
     "name": "stdout",
     "output_type": "stream",
     "text": [
      "단어 토큰화 : ['I', 'am', 'actively', 'looking', 'for', 'Ph.D.', 'students', '.', 'and', 'you', 'are', 'a', 'Ph.D.', 'student', '.']\n",
      "품사 태깅 : [('I', 'PRP'), ('am', 'VBP'), ('actively', 'RB'), ('looking', 'VBG'), ('for', 'IN'), ('Ph.D.', 'NNP'), ('students', 'NNS'), ('.', '.'), ('and', 'CC'), ('you', 'PRP'), ('are', 'VBP'), ('a', 'DT'), ('Ph.D.', 'NNP'), ('student', 'NN'), ('.', '.')]\n"
     ]
    }
   ],
   "source": [
    "text = \"I am actively looking for Ph.D. students. and you are a Ph.D. student.\"\n",
    "tokenized_sentence = word_tokenize(text)\n",
    "\n",
    "print('단어 토큰화 :',tokenized_sentence)\n",
    "print('품사 태깅 :',pos_tag(tokenized_sentence))"
   ]
  },
  {
   "cell_type": "markdown",
   "id": "a4268a78",
   "metadata": {},
   "source": [
    "| 태그 | 설명 |\n",
    "| -- | -- |\n",
    "|PRP|인칭 대명사|\n",
    "|VBP| 동사|\n",
    "|RB| 부사|\n",
    "|VBG| 현재부사|\n",
    "|IN| 전치사|\n",
    "|NNP| 고유 명사|\n",
    "|NNS| 복수형 명사|\n",
    "|CC| 접속사|\n",
    "|DT| 관사|"
   ]
  },
  {
   "cell_type": "markdown",
   "id": "12499629",
   "metadata": {},
   "source": [
    "- 한국어 자연어 처리를 위해서는 KoNLPy(코엔엘파이)라는 파이썬 패키지를 사용할 수 있다.\n",
    "- KoNLPy를 통해 사용할 수 있는 형태소 분석기로 Okt(Open Korea Text), 메캅(Mecab), 코모란(Komoran), 한나눔(Hannanum), 꼬꼬마(Kkma)가 있다."
   ]
  },
  {
   "cell_type": "markdown",
   "id": "c1727d24",
   "metadata": {},
   "source": [
    "**[한국어 형태소 토큰화]**<br>\n",
    "\n",
    "1) morphs : 형태소 추출\n",
    "2) pos : 품사 태깅(Part-of-speech tagging)\n",
    "3) nouns : 명사 추출\n",
    "\n",
    "-> 코엔엘파이의 형태소 분석기들은 공통적으로 이 메소드들을 제공"
   ]
  },
  {
   "cell_type": "code",
   "execution_count": 22,
   "id": "bae8434b",
   "metadata": {},
   "outputs": [],
   "source": [
    "from konlpy.tag import Okt\n",
    "from konlpy.tag import Kkma\n",
    "\n",
    "okt = Okt()\n",
    "kkma = Kkma()"
   ]
  },
  {
   "cell_type": "markdown",
   "id": "5d485689",
   "metadata": {},
   "source": [
    "- Okt"
   ]
  },
  {
   "cell_type": "code",
   "execution_count": 23,
   "id": "83b36e09",
   "metadata": {},
   "outputs": [
    {
     "name": "stdout",
     "output_type": "stream",
     "text": [
      "OKT 형태소 분석 : ['열심히', '코딩', '한', '당신', ',', '연휴', '에는', '여행', '을', '가봐요']\n",
      "OKT 품사 태깅 : [('열심히', 'Adverb'), ('코딩', 'Noun'), ('한', 'Josa'), ('당신', 'Noun'), (',', 'Punctuation'), ('연휴', 'Noun'), ('에는', 'Josa'), ('여행', 'Noun'), ('을', 'Josa'), ('가봐요', 'Verb')]\n",
      "OKT 명사 추출 : ['코딩', '당신', '연휴', '여행']\n"
     ]
    }
   ],
   "source": [
    "print('OKT 형태소 분석 :',okt.morphs(\"열심히 코딩한 당신, 연휴에는 여행을 가봐요\"))\n",
    "print('OKT 품사 태깅 :',okt.pos(\"열심히 코딩한 당신, 연휴에는 여행을 가봐요\"))\n",
    "print('OKT 명사 추출 :',okt.nouns(\"열심히 코딩한 당신, 연휴에는 여행을 가봐요\")) "
   ]
  },
  {
   "cell_type": "markdown",
   "id": "ef961cb1",
   "metadata": {},
   "source": [
    "- Kkma"
   ]
  },
  {
   "cell_type": "code",
   "execution_count": 24,
   "id": "a41b492d",
   "metadata": {},
   "outputs": [
    {
     "name": "stdout",
     "output_type": "stream",
     "text": [
      "꼬꼬마 형태소 분석 : ['열심히', '코딩', '하', 'ㄴ', '당신', ',', '연휴', '에', '는', '여행', '을', '가보', '아요']\n",
      "꼬꼬마 품사 태깅 : [('열심히', 'MAG'), ('코딩', 'NNG'), ('하', 'XSV'), ('ㄴ', 'ETD'), ('당신', 'NP'), (',', 'SP'), ('연휴', 'NNG'), ('에', 'JKM'), ('는', 'JX'), ('여행', 'NNG'), ('을', 'JKO'), ('가보', 'VV'), ('아요', 'EFN')]\n",
      "꼬꼬마 명사 추출 : ['코딩', '당신', '연휴', '여행']\n"
     ]
    }
   ],
   "source": [
    "print('꼬꼬마 형태소 분석 :',kkma.morphs(\"열심히 코딩한 당신, 연휴에는 여행을 가봐요\"))\n",
    "print('꼬꼬마 품사 태깅 :',kkma.pos(\"열심히 코딩한 당신, 연휴에는 여행을 가봐요\"))\n",
    "print('꼬꼬마 명사 추출 :',kkma.nouns(\"열심히 코딩한 당신, 연휴에는 여행을 가봐요\"))  "
   ]
  },
  {
   "cell_type": "markdown",
   "id": "7c7933ff",
   "metadata": {},
   "source": [
    "- 두 개의 결과가 다른것을 확인 할 수 있다.\n",
    "- 각 형태소 분석기는 성능과 결과가 다르게 나오기 때문에, <br> \n",
    "  형태소 분석기의 선택은 사용하고자 하는 필요 용도에 어떤 형태소 분석기가 가장 적절한지를 판단하고 사용하면 된다.\n",
    "- 속도를 중시한다면 Mecab(메캅)을 사용할 수 있다.  "
   ]
  }
 ],
 "metadata": {
  "kernelspec": {
   "display_name": "Python 3 (ipykernel)",
   "language": "python",
   "name": "python3"
  },
  "language_info": {
   "codemirror_mode": {
    "name": "ipython",
    "version": 3
   },
   "file_extension": ".py",
   "mimetype": "text/x-python",
   "name": "python",
   "nbconvert_exporter": "python",
   "pygments_lexer": "ipython3",
   "version": "3.9.15"
  }
 },
 "nbformat": 4,
 "nbformat_minor": 5
}
