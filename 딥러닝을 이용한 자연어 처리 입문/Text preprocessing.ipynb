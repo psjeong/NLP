{
 "cells": [
  {
   "cell_type": "markdown",
   "id": "c081fe34",
   "metadata": {},
   "source": [
    "# 텍스트 전처리 (Text preprocessing)\n",
    "\n",
    "- 풀고자 하는 문제의 용도에 맞게 텍스트를 사전에 처리하는 작업\n",
    "- 텍스트를 제대로 전처리 하지 않으면 자연어 처리 기법들이 제대로 동작하지 않음"
   ]
  },
  {
   "cell_type": "markdown",
   "id": "df737c21",
   "metadata": {},
   "source": [
    "## 토큰화\n",
    "\n",
    "- 주어진 코퍼스(corpus)에서 토큰(token)이라 불리는 단위로 나누는 작업을 토큰화(tokenization)라고 한다.\n",
    "- 토큰의 단위가 상황에 따라 다르지만, 보통 의미있는 단어로 토큰을 정의한다."
   ]
  },
  {
   "cell_type": "markdown",
   "id": "3c284523",
   "metadata": {},
   "source": [
    "### 01. 단어 토큰화(Word Tokenization)\n",
    "***\n",
    "- 토큰의 기준을 단어(word)로 하는 경우, 단어 토큰화(word tokenization)라고 한다.\n",
    "- 단어(word)는 단어 단위 외에도 단어구, 의미를 갖는 문자열로도 간주된다."
   ]
  },
  {
   "cell_type": "markdown",
   "id": "146580d8",
   "metadata": {},
   "source": [
    "    예) 입력으로부터 구두점을 제외시킨 토큰화 작업의 결과\n",
    "        (구두점이란? 마침표(.), 컴마(,), 물음표(?), 세미콜론(;), 느낌표(!) 등과 같은 기호)\n",
    "        \n",
    "    입력 : Time is an illusion. Lunchtime double so!\n",
    "    출력 : 'Time', 'is', 'an', 'illusion', 'Lunchtime', 'double', 'so'\n",
    "    \n",
    "    => 예제에서 토큰화 작업은 구두점을 지운 뒤에 띄어쓰기(whitespace)를 기준으로 잘라냈다.\n",
    "       \n",
    "       보통 토큰화 작업은 단순히 구두점이나 특수문자를 전부 제거하는 정제(cleaning) 작업을 수행하는 것만으로 해결되지 않는다.\n",
    "       구두점이나 특수문자를 전부 제거하면 토큰이 의미를 잃어버리는 경우가 발생하기도 한다.\n",
    "       심지어 띄어쓰기 단위로 자르면 사실상 단어 토큰이 구분되는 영어롸 달리, 한국어는 띄어쓰기만으로는 단어 토큰을 구분하기 어렵다."
   ]
  },
  {
   "cell_type": "markdown",
   "id": "e9ce4ba4",
   "metadata": {},
   "source": [
    "### 02. 토큰화 중 생기는 선택의 순간\n",
    "***\n",
    "- 토큰화를 하다보면, 예상하지 못한 경우가 있어서 토큰화의 기준을 생각해봐야하는 경우가 발생한다.\n",
    "- 데이터를 어떤 용도로 사용할 것인지에 따라서 그 용도에 영향이 없는 기준으로 정하면 된다.\n",
    "- 예를 들어 영어권 언어에서 아포스트로피(')가 들어가있는 단어는 어떻게 토큰으로 분류해야하는지에 대한 선택의 문제가 있다."
   ]
  },
  {
   "cell_type": "markdown",
   "id": "72915b3e",
   "metadata": {},
   "source": [
    "**Don't be fooled by the dark sounding name, Mr. Jone's Orphanage is as cheery as cheery goes for a pastry shop.**\n",
    "\n",
    "해당 문장에서 **Don't**와 **Jone's**는 어떻게 토큰화할수 있을까?\n",
    "다양한 선택지가 있다.\n",
    "\n",
    "- Don't\n",
    "- Don t\n",
    "- Dont\n",
    "- Do n't\n",
    "<br><br>\n",
    "- Jone's\n",
    "- Jone s\n",
    "- Jone\n",
    "- Jones\n",
    "\n",
    "이 중 사용자가 원하는 결과가 나오도록 토큰화 도구를 직접 설계할 수도 있겠지만, <br>\n",
    "기존에 공개된 도구들을 사용하였을 떄의 결과가 사용자의 목적과 일치 한다면 해당 도구를 사용할 수도 있을것이다.\n",
    "\n",
    "NLTK 는 영어 코퍼스를 토큰화하기 위한 도구들을 제공한다.<br>\n",
    "그 중 word_tokenize와 WordPunctTokenizer를 사용해서 아포스트로피를 어떻게 처리하는지 확인해보자."
   ]
  },
  {
   "cell_type": "code",
   "execution_count": 6,
   "id": "b0957013",
   "metadata": {},
   "outputs": [
    {
     "name": "stderr",
     "output_type": "stream",
     "text": [
      "[nltk_data] Downloading package punkt to\n",
      "[nltk_data]     C:\\Users\\sj926\\AppData\\Roaming\\nltk_data...\n",
      "[nltk_data]   Unzipping tokenizers\\punkt.zip.\n"
     ]
    },
    {
     "data": {
      "text/plain": [
       "True"
      ]
     },
     "execution_count": 6,
     "metadata": {},
     "output_type": "execute_result"
    }
   ],
   "source": [
    "import nltk\n",
    "nltk.download('punkt')"
   ]
  },
  {
   "cell_type": "code",
   "execution_count": 4,
   "id": "ebe3b979",
   "metadata": {},
   "outputs": [],
   "source": [
    "from nltk.tokenize import word_tokenize\n",
    "from nltk.tokenize import WordPunctTokenizer\n",
    "from tensorflow.keras.preprocessing.text import text_to_word_sequence"
   ]
  },
  {
   "cell_type": "markdown",
   "id": "841f0d83",
   "metadata": {},
   "source": [
    "**word_tokenize**"
   ]
  },
  {
   "cell_type": "code",
   "execution_count": 9,
   "id": "45202751",
   "metadata": {},
   "outputs": [
    {
     "name": "stdout",
     "output_type": "stream",
     "text": [
      "word_tokenize : ['Do', \"n't\", 'be', 'fooled', 'by', 'the', 'dark', 'sounding', 'name', ',', 'Mr.', 'Jone', \"'s\", 'Orphanage', 'is', 'as', 'cheery', 'as', 'cheery', 'goes', 'for', 'a', 'pastry', 'shop', '.']\n"
     ]
    }
   ],
   "source": [
    "print('word_tokenize :',word_tokenize(\"Don't be fooled by the dark sounding name, Mr. Jone's Orphanage is as cheery as cheery goes for a pastry shop.\"))\n",
    "\n",
    "# Don't  -> Do  n't\n",
    "# Jone's -> Jone 's"
   ]
  },
  {
   "cell_type": "code",
   "execution_count": 36,
   "id": "4b7b4455",
   "metadata": {},
   "outputs": [
    {
     "name": "stdout",
     "output_type": "stream",
     "text": [
      "주어 + 동사 :  ['I', \"'m\", 'you', \"'re\", 'It', \"'s\", 'he', \"'d\", 'ai', \"n't\", 'I', \"'ll\", 'I', \"'ve\"]\n",
      "be 동사 + not :  ['does', \"n't\", 'did', \"n't\"]\n",
      "줄임말 :  [\"o'clock\", \"o'er\"]\n"
     ]
    }
   ],
   "source": [
    "# 주어 + 동사(be, have, has, will...) 축약형\n",
    "print('주어 + 동사 : ', word_tokenize(\"I'm you're It's he'd ain't  I'll I've\"))\n",
    "\n",
    "# be 동사 + not  축약형\n",
    "print('be 동사 + not : ', word_tokenize(\"doesn't didn't\"))\n",
    "\n",
    "# 줄임말\n",
    "print('줄임말 : ', word_tokenize(\"o'clock o'er\"))"
   ]
  },
  {
   "cell_type": "markdown",
   "id": "33aa0227",
   "metadata": {},
   "source": [
    "└>  축약형 단어를 나눠주는 특징이 있는것으로 확인이 된다.\n",
    "    (접어가 함께하는 단어는 분리된다.)"
   ]
  },
  {
   "cell_type": "markdown",
   "id": "8f0483e3",
   "metadata": {},
   "source": [
    "**WordPunctTokenizer**\n",
    "- 구두점을 별도로 분류하는 특징을 갖고 있다."
   ]
  },
  {
   "cell_type": "code",
   "execution_count": 10,
   "id": "f6fe6151",
   "metadata": {},
   "outputs": [
    {
     "name": "stdout",
     "output_type": "stream",
     "text": [
      "WordPunctTokenizer: ['Don', \"'\", 't', 'be', 'fooled', 'by', 'the', 'dark', 'sounding', 'name', ',', 'Mr', '.', 'Jone', \"'\", 's', 'Orphanage', 'is', 'as', 'cheery', 'as', 'cheery', 'goes', 'for', 'a', 'pastry', 'shop', '.']\n"
     ]
    }
   ],
   "source": [
    "print('WordPunctTokenizer:',WordPunctTokenizer().tokenize(\"Don't be fooled by the dark sounding name, Mr. Jone's Orphanage is as cheery as cheery goes for a pastry shop.\"))\n",
    "\n",
    "# Don't  -> Don   '   t\n",
    "# Jone's -> Jone  '   s"
   ]
  },
  {
   "cell_type": "code",
   "execution_count": 35,
   "id": "63087f66",
   "metadata": {},
   "outputs": [
    {
     "name": "stdout",
     "output_type": "stream",
     "text": [
      "주어 + 동사:  ['I', \"'\", 'm', 'you', \"'\", 're', 'It', \"'\", 's', 'he', \"'\", 'd', 'ain', \"'\", 't', 'I', \"'\", 'll', 'I', \"'\", 've']\n",
      "be 동사 + not :  ['doesn', \"'\", 't', 'didn', \"'\", 't']\n",
      "줄임말 :  ['o', \"'\", 'clock', 'o', \"'\", 'er']\n"
     ]
    }
   ],
   "source": [
    "# 주어 + 동사(be, have, has, will...) 축약형\n",
    "print('주어 + 동사: ',WordPunctTokenizer().tokenize(\"I'm you're It's he'd ain't  I'll I've\"))\n",
    "\n",
    "# be 동사 + not  축약형\n",
    "print('be 동사 + not : ',WordPunctTokenizer().tokenize(\"doesn't didn't\"))\n",
    "\n",
    "# 줄임말\n",
    "print('줄임말 : ',WordPunctTokenizer().tokenize(\"o'clock o'er\"))"
   ]
  },
  {
   "cell_type": "markdown",
   "id": "134c7298",
   "metadata": {},
   "source": [
    "**text_to_word_sequence**\n",
    "- 기본적으로 모든 알파벳을 소문자로 바꾸면서 마침표나 컴마, 느낌표 등의 구두점을 제거한다."
   ]
  },
  {
   "cell_type": "code",
   "execution_count": 11,
   "id": "bd03bc88",
   "metadata": {},
   "outputs": [
    {
     "name": "stdout",
     "output_type": "stream",
     "text": [
      "text_to_word_sequence : [\"don't\", 'be', 'fooled', 'by', 'the', 'dark', 'sounding', 'name', 'mr', \"jone's\", 'orphanage', 'is', 'as', 'cheery', 'as', 'cheery', 'goes', 'for', 'a', 'pastry', 'shop']\n"
     ]
    }
   ],
   "source": [
    "print('text_to_word_sequence :',text_to_word_sequence(\"Don't be fooled by the dark sounding name, Mr. Jone's Orphanage is as cheery as cheery goes for a pastry shop.\"))\n",
    "\n",
    "# Don't  -> don't\n",
    "# Jone's -> jone's"
   ]
  },
  {
   "cell_type": "markdown",
   "id": "226180d7",
   "metadata": {},
   "source": [
    "└> 하지만 don't나 jone's와 같은 경우 아포스트로피는 보존하는것을 볼 수 있다."
   ]
  },
  {
   "cell_type": "code",
   "execution_count": 41,
   "id": "62055d4d",
   "metadata": {},
   "outputs": [
    {
     "name": "stdout",
     "output_type": "stream",
     "text": [
      "주어 + 동사:  [\"i'm\", \"you're\", \"it's\", \"he'd\", \"ain't\", \"i'll\", \"i've\"]\n",
      "be 동사 + not :  [\"doesn't\", \"didn't\"]\n",
      "줄임말 :  [\"o'clock\", \"o'er\"]\n"
     ]
    }
   ],
   "source": [
    "# 주어 + 동사(be, have, has, will...) 축약형\n",
    "print('주어 + 동사: ',text_to_word_sequence(\"I'm you're It's he'd ain't  I'll I've\"))\n",
    "\n",
    "# be 동사 + not  축약형\n",
    "print('be 동사 + not : ',text_to_word_sequence(\"doesn't didn't\"))\n",
    "\n",
    "# 줄임말\n",
    "print('줄임말 : ',text_to_word_sequence(\"o'clock o'er\"))"
   ]
  },
  {
   "cell_type": "markdown",
   "id": "bdf4fc5f",
   "metadata": {},
   "source": [
    "└> 단어 안에 있는 아포스트로피는 보존되는것같다."
   ]
  },
  {
   "cell_type": "markdown",
   "id": "fa0c7db0",
   "metadata": {},
   "source": [
    "### 03. 토큰화에서 고려해야할 사항\n",
    "***\n",
    "- 토큰화 작업을 단순하게 코퍼스에서 구두점을 제외하고 공백 기준으로 잘라내는 작업이라고 간주할 수는 없다.\n",
    "- 이러한 일은 보다 섬세한 알고리즘이 필요하다."
   ]
  },
  {
   "cell_type": "markdown",
   "id": "b77c8a3f",
   "metadata": {},
   "source": [
    "**1) 구두점이나 특수 문자를 단순 제외해서는 안된다.**"
   ]
  },
  {
   "cell_type": "markdown",
   "id": "83975bef",
   "metadata": {},
   "source": [
    "- 정제 작업을 진행하다보면, 구두점 조차도 하나의 토큰으로 분류하기도 한다.\n",
    "- 마침표(.)는 문장의 경계를 알 수 있는데 도움이 되므로 단어를 뽑아낼 때, 마침표(.)를 제외하지 않을 수 있다.\n",
    "- 단어 자체에도 구두점을 갖고 있는 경우에도 구두점이 내포하고 있는 의미가 있기에 분류하고 싶지 않을 수도 있다. <br>\n",
    "    예 ) m.p.h | Ph.D | AT&T | $96.09 | 22/12/24 | 36,000,000 ..."
   ]
  },
  {
   "cell_type": "markdown",
   "id": "573b265a",
   "metadata": {},
   "source": [
    "**2) 줄임말과 단어 내에 띄어쓰기가 있는 경우**"
   ]
  },
  {
   "cell_type": "markdown",
   "id": "11c6a8dd",
   "metadata": {},
   "source": [
    "- 토큰화 작업에서 종종 영어권 언어의 아포스트로피(')는 압축된 단어를 펼치는 역할을 하기도 한다.<br>\n",
    "  예 ) what're → what are | we're → we are ...  => re를 접어(clitic)이라고한다.\n",
    "- 하나의 단어이지만 중간에 띄어쓰기가 존재하는 경우도 있다. <br>\n",
    "  해당 경우에도 하나의 토큰으로 봐야하는 경우도 있을 수 있으므로, <br>\n",
    "  토큰화 작업은 띄어쓰기를 포함한 단어도 하나로 인식할 수 있는 능력도 가져야한다. <br>\n",
    "  예 ) New York | rock 'n' roll"
   ]
  },
  {
   "cell_type": "markdown",
   "id": "2dc58874",
   "metadata": {},
   "source": [
    "**3) 표준 토큰화 예제**"
   ]
  },
  {
   "cell_type": "markdown",
   "id": "0d8b3ded",
   "metadata": {},
   "source": [
    "- 표준으로 쓰이고 있는 토큰화 방법 중 하나인 Penn Treebank Tokenization 규칙에 따른 토큰화 결과를 확인해보자.\n",
    "\n",
    "```\n",
    "    규칙 1 : 하이픈(-)으로 구성된 단어는 하나로 유지한다.\n",
    "    규칙 2 : doesn't와 같이 아포스트로피로 '접어'가 함께하는 단어는 분리해준다.\n",
    "```"
   ]
  },
  {
   "cell_type": "code",
   "execution_count": 42,
   "id": "bb376aa9",
   "metadata": {},
   "outputs": [],
   "source": [
    "from nltk.tokenize import TreebankWordTokenizer"
   ]
  },
  {
   "cell_type": "code",
   "execution_count": 43,
   "id": "c36b4f13",
   "metadata": {},
   "outputs": [
    {
     "name": "stdout",
     "output_type": "stream",
     "text": [
      "트리뱅크 워드토크나이저 : ['Starting', 'a', 'home-based', 'restaurant', 'may', 'be', 'an', 'ideal.', 'it', 'does', \"n't\", 'have', 'a', 'food', 'chain', 'or', 'restaurant', 'of', 'their', 'own', '.']\n"
     ]
    }
   ],
   "source": [
    "tokenizer = TreebankWordTokenizer()\n",
    "\n",
    "text = \"Starting a home-based restaurant may be an ideal. it doesn't have a food chain or restaurant of their own.\"\n",
    "print('트리뱅크 워드토크나이저 :',tokenizer.tokenize(text))"
   ]
  },
  {
   "cell_type": "code",
   "execution_count": 44,
   "id": "dca68111",
   "metadata": {},
   "outputs": [
    {
     "name": "stdout",
     "output_type": "stream",
     "text": [
      "트리뱅크 워드토크나이저 : ['home_based']\n"
     ]
    }
   ],
   "source": [
    "text = \"home_based\"\n",
    "print('트리뱅크 워드토크나이저 :',tokenizer.tokenize(text))"
   ]
  },
  {
   "cell_type": "markdown",
   "id": "2aa072d2",
   "metadata": {},
   "source": [
    "└> 결과를 보면, 각각 규칙에 따라 home-based는 하나의 토큰으로, dosen't의 경우 does와 n't는 분리 되었음을 확인 할 수 있다."
   ]
  }
 ],
 "metadata": {
  "kernelspec": {
   "display_name": "Python 3 (ipykernel)",
   "language": "python",
   "name": "python3"
  },
  "language_info": {
   "codemirror_mode": {
    "name": "ipython",
    "version": 3
   },
   "file_extension": ".py",
   "mimetype": "text/x-python",
   "name": "python",
   "nbconvert_exporter": "python",
   "pygments_lexer": "ipython3",
   "version": "3.9.15"
  }
 },
 "nbformat": 4,
 "nbformat_minor": 5
}
