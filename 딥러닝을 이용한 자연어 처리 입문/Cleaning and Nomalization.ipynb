{
 "cells": [
  {
   "cell_type": "markdown",
   "id": "d0a3d433",
   "metadata": {},
   "source": [
    "# 정제(Cleaning) and 정규화(Normalization)"
   ]
  },
  {
   "cell_type": "markdown",
   "id": "38dd5081",
   "metadata": {},
   "source": [
    "- 정제(cleaning) : 갖고 있는 코퍼스로부터 노이즈 데이터를 제거한다.\n",
    "- 정규화(normalization) : 표현 방법이 다른 단어들을 통합시켜서 같은 단어로 만들어준다.\n",
    "\n",
    "\n",
    "정제 작업은 토큰화 작업에 방해가 되는 부분들을 배제시키고 토큰화 작업을 수행하기 위해서 토큰화 작업보다 <br>\n",
    "앞서 이루어지기도 하지만, 토큰화 작업 이후에도 여전히 남아잇는 노이즈들을 제거하기 위해 지속적으로 이루어지기도 한다. <br>\n",
    "사실 완벽한 정제 작업은 어려운 편이라서, 대부분의 경우 이 정도면 됐다. 라는 일종의 합의점을 찾기도 한다."
   ]
  },
  {
   "cell_type": "markdown",
   "id": "b1849a80",
   "metadata": {},
   "source": [
    "## 1. 규칙에 기반한 표기가 다른 단어들의 통합"
   ]
  },
  {
   "cell_type": "markdown",
   "id": "58487015",
   "metadata": {},
   "source": [
    "필요에 따라 직접 코딩을 통해 정의할 수 있는 정규화 규칙의 예로서 같은 의미를 갖고있음에도, <br>\n",
    "표기가 다른 단어들을 하나의 단어로 정규화하는 방법을 사용할 수 있다.<br>\n",
    "<br>\n",
    "USA와 US는 같은 의미를 가지므로 하나의 단어로 정규화해볼 수 있다. <br>\n",
    "uh-huh와 uhhuh는 형태는 다르지만 여전히 같은 의미를 갖고 있다. 이러한 정규화를 거치게 되면,<br>\n",
    "US를 찾아도 USA도 함께 찾을 수 있을 것이다."
   ]
  },
  {
   "cell_type": "markdown",
   "id": "b74863fe",
   "metadata": {},
   "source": [
    "## 2. 대, 소문자 통합"
   ]
  },
  {
   "cell_type": "code",
   "execution_count": null,
   "id": "b1698639",
   "metadata": {},
   "outputs": [],
   "source": []
  }
 ],
 "metadata": {
  "kernelspec": {
   "display_name": "Python 3 (ipykernel)",
   "language": "python",
   "name": "python3"
  },
  "language_info": {
   "codemirror_mode": {
    "name": "ipython",
    "version": 3
   },
   "file_extension": ".py",
   "mimetype": "text/x-python",
   "name": "python",
   "nbconvert_exporter": "python",
   "pygments_lexer": "ipython3",
   "version": "3.9.15"
  }
 },
 "nbformat": 4,
 "nbformat_minor": 5
}
