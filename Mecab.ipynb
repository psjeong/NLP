{
 "cells": [
  {
   "cell_type": "code",
   "execution_count": 2,
   "id": "6b6b77be",
   "metadata": {},
   "outputs": [
    {
     "name": "stdout",
     "output_type": "stream",
     "text": [
      "확인\tNNG,행위,T,확인,*,*,*,*\n",
      "EOS\n",
      "\n"
     ]
    }
   ],
   "source": [
    "import MeCab\n",
    "m = MeCab.Tagger(\"-d C:/mecab/mecab-ko-dic/\")\n",
    "out= m.parse(\"확인\")\n",
    "print(out)"
   ]
  },
  {
   "cell_type": "code",
   "execution_count": 3,
   "id": "35d2260f",
   "metadata": {},
   "outputs": [],
   "source": [
    "from konlpy.tag import Mecab"
   ]
  },
  {
   "cell_type": "code",
   "execution_count": 4,
   "id": "decb63a0",
   "metadata": {},
   "outputs": [],
   "source": [
    "mecab = Mecab(dicpath=r\"C:/mecab/mecab-ko-dic/\")"
   ]
  },
  {
   "cell_type": "code",
   "execution_count": 6,
   "id": "357607b6",
   "metadata": {},
   "outputs": [],
   "source": [
    "from konlpy.tag import Mecab\n",
    "tagger = Mecab(dicpath=r\"C:/mecab/mecab-ko-dic/\")"
   ]
  },
  {
   "cell_type": "code",
   "execution_count": null,
   "id": "14698581",
   "metadata": {},
   "outputs": [],
   "source": []
  }
 ],
 "metadata": {
  "kernelspec": {
   "display_name": "Python 3 (ipykernel)",
   "language": "python",
   "name": "python3"
  },
  "language_info": {
   "codemirror_mode": {
    "name": "ipython",
    "version": 3
   },
   "file_extension": ".py",
   "mimetype": "text/x-python",
   "name": "python",
   "nbconvert_exporter": "python",
   "pygments_lexer": "ipython3",
   "version": "3.9.15"
  }
 },
 "nbformat": 4,
 "nbformat_minor": 5
}
